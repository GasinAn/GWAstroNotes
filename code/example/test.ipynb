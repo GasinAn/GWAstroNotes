{
 "cells": [
  {
   "cell_type": "code",
   "execution_count": 2,
   "metadata": {},
   "outputs": [],
   "source": [
    "import os \n",
    "import json"
   ]
  },
  {
   "cell_type": "code",
   "execution_count": 3,
   "metadata": {},
   "outputs": [],
   "source": [
    "\n",
    "directory = '/home/zjcao/zhaozc/CPT_O3b/runs/'\n",
    "events_name_list = sorted(os.listdir(directory))\n",
    "\n",
    "events_name_list.remove('GW191204_171526')\n",
    "events_name_list.remove('GW191204_171526_More_Point_stricter')\n",
    "\n",
    "\n",
    "\n",
    "result_file_list = [directory + name + '/run1/outdir/data/sola_prior.json' for name in events_name_list]"
   ]
  },
  {
   "cell_type": "code",
   "execution_count": 6,
   "metadata": {},
   "outputs": [],
   "source": [
    "with open(result_file_list[0], 'r') as f:\n",
    "    data = json.load(f)"
   ]
  },
  {
   "cell_type": "code",
   "execution_count": 10,
   "metadata": {},
   "outputs": [
    {
     "data": {
      "text/plain": [
       "(-0.1, 0.1)"
      ]
     },
     "execution_count": 10,
     "metadata": {},
     "output_type": "execute_result"
    }
   ],
   "source": []
  },
  {
   "cell_type": "code",
   "execution_count": 11,
   "metadata": {},
   "outputs": [
    {
     "name": "stdout",
     "output_type": "stream",
     "text": [
      "-0.1 0.1\n",
      "-0.1 0.1\n",
      "-0.1 0.1\n",
      "-0.1 0.1\n",
      "-0.1 0.1\n",
      "-0.1 0.1\n",
      "-0.1 0.1\n",
      "-0.1 0.1\n",
      "-0.1 0.1\n",
      "-0.1 0.1\n",
      "-0.1 0.1\n",
      "-0.1 0.1\n",
      "-0.1 0.1\n",
      "-0.1 0.1\n",
      "-0.1 0.1\n",
      "-0.1 0.1\n",
      "-0.1 0.1\n",
      "-0.1 0.1\n",
      "-0.1 0.1\n"
     ]
    },
    {
     "name": "stdout",
     "output_type": "stream",
     "text": [
      "-0.1 0.1\n",
      "-0.1 0.1\n",
      "-0.1 0.1\n",
      "-0.1 0.1\n",
      "-0.1 0.1\n",
      "-0.1 0.1\n",
      "-0.1 0.1\n",
      "-0.1 0.1\n",
      "-0.1 0.1\n",
      "-0.1 0.1\n",
      "-0.1 0.1\n",
      "-0.1 0.1\n",
      "-0.1 0.1\n",
      "-0.1 0.1\n"
     ]
    }
   ],
   "source": [
    "for file in result_file_list:\n",
    "    with open(file, 'r') as f:\n",
    "        data = json.load(f)\n",
    "        print(data['zeta']['kwargs']['minimum'],data['zeta']['kwargs']['maximum'])"
   ]
  },
  {
   "cell_type": "code",
   "execution_count": null,
   "metadata": {},
   "outputs": [],
   "source": []
  }
 ],
 "metadata": {
  "kernelspec": {
   "display_name": "CPT",
   "language": "python",
   "name": "python3"
  },
  "language_info": {
   "codemirror_mode": {
    "name": "ipython",
    "version": 3
   },
   "file_extension": ".py",
   "mimetype": "text/x-python",
   "name": "python",
   "nbconvert_exporter": "python",
   "pygments_lexer": "ipython3",
   "version": "3.8.12"
  }
 },
 "nbformat": 4,
 "nbformat_minor": 2
}

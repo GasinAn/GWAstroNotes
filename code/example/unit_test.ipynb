{
 "cells": [
  {
   "cell_type": "code",
   "execution_count": 1,
   "metadata": {},
   "outputs": [],
   "source": [
    "import hyper_function as func"
   ]
  },
  {
   "cell_type": "code",
   "execution_count": 10,
   "metadata": {},
   "outputs": [
    {
     "data": {
      "text/plain": [
       "['GW191103_012549',\n",
       " 'GW191105_143521',\n",
       " 'GW191109_010717',\n",
       " 'GW191113_071753',\n",
       " 'GW191126_115259',\n",
       " 'GW191127_050227',\n",
       " 'GW191129_134029',\n",
       " 'GW191204_110529',\n",
       " 'GW191204_171526',\n",
       " 'GW191204_171526_More_Point',\n",
       " 'GW191204_171526_More_Point_stricter',\n",
       " 'GW191215_223052',\n",
       " 'GW191216_213338',\n",
       " 'GW191222_033537',\n",
       " 'GW191230_180458',\n",
       " 'GW200112_155838',\n",
       " 'GW200128_022011',\n",
       " 'GW200129_065458',\n",
       " 'GW200202_154313',\n",
       " 'GW200208_130117',\n",
       " 'GW200208_222617',\n",
       " 'GW200209_085452',\n",
       " 'GW200210_092255',\n",
       " 'GW200216_220804',\n",
       " 'GW200219_094415',\n",
       " 'GW200220_061928',\n",
       " 'GW200220_124850',\n",
       " 'GW200224_222234',\n",
       " 'GW200225_060421',\n",
       " 'GW200302_015811',\n",
       " 'GW200306_093714',\n",
       " 'GW200308_173609',\n",
       " 'GW200311_115853',\n",
       " 'GW200316_215756',\n",
       " 'GW200322_091133']"
      ]
     },
     "execution_count": 10,
     "metadata": {},
     "output_type": "execute_result"
    }
   ],
   "source": []
  },
  {
   "cell_type": "code",
   "execution_count": 11,
   "metadata": {},
   "outputs": [
    {
     "name": "stdout",
     "output_type": "stream",
     "text": [
      "35\n"
     ]
    }
   ],
   "source": [
    "import os\n",
    "\n",
    "import numpy as np\n",
    "\n",
    "\n",
    "outdir = 'outdir'\n",
    "label = 'hyper'\n",
    "\n",
    "\n",
    "\n",
    "directory = '/home/zjcao/zhaozc/CPT_O3b/runs/'\n",
    "events_name_list = sorted(os.listdir(directory))\n",
    "print(len(events_name_list))\n",
    "# events_name_list.remove('GW191204_171526_More_Point_stricter')\n",
    "events_name_list.remove('GW191204_171526_More_Point')\n",
    "events_name_list.remove('GW191204_171526')\n",
    "\n",
    "\n",
    "result_file_list = [directory + name + '/run1/outdir/result/sola_0_result.json' for name in events_name_list]\n",
    "flag = [os.path.exists(file) for file in result_file_list]"
   ]
  },
  {
   "cell_type": "code",
   "execution_count": 23,
   "metadata": {},
   "outputs": [
    {
     "data": {
      "text/plain": [
       "(11, 11, 11)"
      ]
     },
     "execution_count": 23,
     "metadata": {},
     "output_type": "execute_result"
    }
   ],
   "source": [
    "len(result_file_list[0:11]), len(result_file_list[11:22]), len(result_file_list[22:33])"
   ]
  },
  {
   "cell_type": "code",
   "execution_count": 3,
   "metadata": {},
   "outputs": [
    {
     "name": "stdout",
     "output_type": "stream",
     "text": [
      "This message should only appear once\n"
     ]
    }
   ],
   "source": [
    "import bilby"
   ]
  },
  {
   "cell_type": "code",
   "execution_count": null,
   "metadata": {},
   "outputs": [],
   "source": [
    "result_file_list = result_file_list[0:2]"
   ]
  },
  {
   "cell_type": "code",
   "execution_count": null,
   "metadata": {},
   "outputs": [],
   "source": [
    "result_file_list"
   ]
  },
  {
   "cell_type": "code",
   "execution_count": 4,
   "metadata": {},
   "outputs": [],
   "source": [
    "import pandas as pd"
   ]
  },
  {
   "cell_type": "code",
   "execution_count": 5,
   "metadata": {},
   "outputs": [],
   "source": [
    "results = [bilby.result.read_in_result(file) for file in result_file_list]\n",
    "\n",
    "samples = [pd.DataFrame(result.posterior['zeta']) for result in results]\n",
    "evidences = [result.log_evidence for result in results]\n"
   ]
  },
  {
   "cell_type": "code",
   "execution_count": null,
   "metadata": {},
   "outputs": [],
   "source": [
    "for result,events_name in zip(results,events_name_list):\n",
    "    result.plot_corner(outdir='zeta',parameters=['zeta'], filename=events_name)"
   ]
  },
  {
   "cell_type": "code",
   "execution_count": null,
   "metadata": {},
   "outputs": [],
   "source": [
    "result.outdir"
   ]
  },
  {
   "cell_type": "code",
   "execution_count": null,
   "metadata": {},
   "outputs": [],
   "source": [
    "for sample in samples:\n",
    "    sample[\"log_prior\"] = np.log(1 / 0.2)"
   ]
  },
  {
   "cell_type": "code",
   "execution_count": null,
   "metadata": {},
   "outputs": [],
   "source": [
    "hp_likelihood = bilby.hyper.likelihood.HyperparameterLikelihood(\n",
    "    posteriors=samples, hyper_prior=func.hyper_prior,\n",
    "    log_evidences=evidences)\n"
   ]
  },
  {
   "cell_type": "code",
   "execution_count": 6,
   "metadata": {},
   "outputs": [
    {
     "data": {
      "image/png": "[encoded data removed]",
      "text/plain": [
       "<Figure size 432x288 with 1 Axes>"
      ]
     },
     "execution_count": 6,
     "metadata": {},
     "output_type": "execute_result"
    },
    {
     "data": {
      "image/png": "[encoded data removed]",
      "text/plain": [
       "<Figure size 432x288 with 1 Axes>"
      ]
     },
     "metadata": {
      "needs_background": "light"
     },
     "output_type": "display_data"
    }
   ],
   "source": [
    "results[0].plot_corner(save=False,parameters=['zeta'])"
   ]
  },
  {
   "cell_type": "code",
   "execution_count": 25,
   "metadata": {},
   "outputs": [
    {
     "name": "stdout",
     "output_type": "stream",
     "text": [
      "This message should only appear once\n"
     ]
    }
   ],
   "source": [
    "import bilby"
   ]
  },
  {
   "cell_type": "code",
   "execution_count": null,
   "metadata": {},
   "outputs": [],
   "source": []
  },
  {
   "cell_type": "code",
   "execution_count": 26,
   "metadata": {},
   "outputs": [],
   "source": [
    "outdir = 'test_log'\n",
    "label = 'hyper'\n",
    "\n",
    "bilby.core.utils.setup_logger(outdir=outdir, label=label)"
   ]
  },
  {
   "cell_type": "code",
   "execution_count": 30,
   "metadata": {},
   "outputs": [
    {
     "ename": "TypeError",
     "evalue": "can only concatenate str (not \"list\") to str",
     "output_type": "error",
     "traceback": [
      "\u001b[0;31m---------------------------------------------------------------------------\u001b[0m",
      "\u001b[0;31mTypeError\u001b[0m                                 Traceback (most recent call last)",
      "\u001b[0;32m/tmp/ipykernel_248020/2380149924.py\u001b[0m in \u001b[0;36m<module>\u001b[0;34m\u001b[0m\n\u001b[1;32m      2\u001b[0m \u001b[0mlogging\u001b[0m\u001b[0;34m.\u001b[0m\u001b[0mbasicConfig\u001b[0m\u001b[0;34m(\u001b[0m\u001b[0mfilename\u001b[0m\u001b[0;34m=\u001b[0m\u001b[0;34m'test_log/hyper.log'\u001b[0m\u001b[0;34m,\u001b[0m \u001b[0mencoding\u001b[0m\u001b[0;34m=\u001b[0m\u001b[0;34m'utf-8'\u001b[0m\u001b[0;34m,\u001b[0m \u001b[0mlevel\u001b[0m\u001b[0;34m=\u001b[0m\u001b[0mlogging\u001b[0m\u001b[0;34m.\u001b[0m\u001b[0mINFO\u001b[0m\u001b[0;34m)\u001b[0m\u001b[0;34m\u001b[0m\u001b[0;34m\u001b[0m\u001b[0m\n\u001b[1;32m      3\u001b[0m \u001b[0;34m\u001b[0m\u001b[0m\n\u001b[0;32m----> 4\u001b[0;31m \u001b[0mlogging\u001b[0m\u001b[0;34m.\u001b[0m\u001b[0minfo\u001b[0m\u001b[0;34m(\u001b[0m\u001b[0;34m'data from'\u001b[0m \u001b[0;34m+\u001b[0m \u001b[0mevents_name_list\u001b[0m\u001b[0;34m[\u001b[0m\u001b[0;36m0\u001b[0m\u001b[0;34m:\u001b[0m\u001b[0;36m2\u001b[0m\u001b[0;34m]\u001b[0m\u001b[0;34m)\u001b[0m\u001b[0;34m\u001b[0m\u001b[0;34m\u001b[0m\u001b[0m\n\u001b[0m",
      "\u001b[0;31mTypeError\u001b[0m: can only concatenate str (not \"list\") to str"
     ]
    }
   ],
   "source": [
    "\n",
    "\n"
   ]
  },
  {
   "cell_type": "code",
   "execution_count": 31,
   "metadata": {},
   "outputs": [],
   "source": [
    "logging.info('data from' + str(events_name_list[0:2]))"
   ]
  },
  {
   "cell_type": "code",
   "execution_count": null,
   "metadata": {},
   "outputs": [],
   "source": [
    "import os\n",
    "import bilby \n",
    "import numpy as np\n",
    "import hyper_function as func\n",
    "import pandas as pd\n",
    "\n",
    "import logging\n",
    "\n",
    "\n",
    "outdir = 'test_logger'\n",
    "label = 'hyper'\n",
    "\n",
    "bilby.core.utils.setup_logger(outdir=outdir, label=label)\n",
    "\n",
    "logging.basicConfig(filename=outdir+'/'+label+'.log', encoding='utf-8', level=logging.INFO)\n",
    "\n",
    "\n",
    "directory = '/home/zjcao/zhaozc/CPT_O3b/runs/'\n",
    "events_name_list = sorted(os.listdir(directory))\n",
    "events_name_list.remove('GW191204_171526_More_Point')\n",
    "events_name_list.remove('GW191204_171526')\n",
    "\n",
    "\n",
    "result_file_list = [directory + name + '/run1/outdir/result/sola_0_result.json' for name in events_name_list]\n",
    "flag = [os.path.exists(file) for file in result_file_list]\n",
    "\n",
    "\n",
    "result_file_list  = result_file_list[0:2]\n",
    "\n",
    "\n",
    "logging.info('data from' + str(events_name_list))\n",
    "\n",
    "if False not in flag:\n",
    "    results = [bilby.result.read_in_result(file) for file in result_file_list]\n",
    "\n",
    "    samples = [pd.DataFrame(result.posterior['zeta']) for result in results]\n",
    "    evidences = [result.log_evidence for result in results]\n",
    "    for sample in samples:\n",
    "        sample[\"log_prior\"] = np.log(1 / 0.2)\n",
    "\n",
    "    hp_likelihood = bilby.hyper.likelihood.HyperparameterLikelihood(\n",
    "    posteriors=samples, hyper_prior=func.hyper_prior,\n",
    "    log_evidences=evidences)\n",
    "\n",
    "\n",
    "    hp_priors = dict(mu=bilby.core.prior.Uniform(-1.0, 1.0, 'mu', '$\\mu$'),\n",
    "                 sigma=bilby.core.prior.Uniform(0.0, 1.0, 'sigma', '$\\sigma$'))\n",
    "\n",
    "    # And run sampler\n",
    "\n",
    "    if __name__ == '__main__':\n",
    "        result = bilby.run_sampler(\n",
    "            likelihood=hp_likelihood, priors=hp_priors, sampler='dynesty', nlive=1000,\n",
    "            use_ratio=False, outdir=outdir, label=label,npool = 8,\n",
    "            verbose=True, clean=True)\n",
    "        \n",
    "        \n",
    "        \n"
   ]
  }
 ],
 "metadata": {
  "kernelspec": {
   "display_name": "CPT",
   "language": "python",
   "name": "python3"
  },
  "language_info": {
   "codemirror_mode": {
    "name": "ipython",
    "version": 3
   },
   "file_extension": ".py",
   "mimetype": "text/x-python",
   "name": "python",
   "nbconvert_exporter": "python",
   "pygments_lexer": "ipython3",
   "version": "3.8.12"
  },
  "orig_nbformat": 4
 },
 "nbformat": 4,
 "nbformat_minor": 2
}

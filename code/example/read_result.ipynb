{
 "cells": [
  {
   "cell_type": "code",
   "execution_count": 1,
   "metadata": {},
   "outputs": [
    {
     "name": "stdout",
     "output_type": "stream",
     "text": [
      "This message should only appear once\n"
     ]
    }
   ],
   "source": [
    "import bilby"
   ]
  },
  {
   "cell_type": "code",
   "execution_count": 2,
   "metadata": {},
   "outputs": [],
   "source": [
    "filename = 'outdir_10_events/hyper_result.json'\n",
    "result = bilby.result.read_in_result(filename)\n",
    "\n",
    "# result.plot_corner()"
   ]
  },
  {
   "cell_type": "code",
   "execution_count": 3,
   "metadata": {},
   "outputs": [
    {
     "data": {
      "text/html": [
       "<div>\n",
       "<style scoped>\n",
       "    .dataframe tbody tr th:only-of-type {\n",
       "        vertical-align: middle;\n",
       "    }\n",
       "\n",
       "    .dataframe tbody tr th {\n",
       "        vertical-align: top;\n",
       "    }\n",
       "\n",
       "    .dataframe thead th {\n",
       "        text-align: right;\n",
       "    }\n",
       "</style>\n",
       "<table border=\"1\" class=\"dataframe\">\n",
       "  <thead>\n",
       "    <tr style=\"text-align: right;\">\n",
       "      <th></th>\n",
       "      <th>mu</th>\n",
       "      <th>sigma</th>\n",
       "      <th>log_likelihood</th>\n",
       "      <th>log_prior</th>\n",
       "    </tr>\n",
       "  </thead>\n",
       "  <tbody>\n",
       "    <tr>\n",
       "      <th>0</th>\n",
       "      <td>0.020852</td>\n",
       "      <td>0.021148</td>\n",
       "      <td>-497260.258105</td>\n",
       "      <td>-0.693147</td>\n",
       "    </tr>\n",
       "    <tr>\n",
       "      <th>1</th>\n",
       "      <td>0.007813</td>\n",
       "      <td>0.026311</td>\n",
       "      <td>-497258.685022</td>\n",
       "      <td>-0.693147</td>\n",
       "    </tr>\n",
       "    <tr>\n",
       "      <th>2</th>\n",
       "      <td>0.001407</td>\n",
       "      <td>0.024959</td>\n",
       "      <td>-497257.944585</td>\n",
       "      <td>-0.693147</td>\n",
       "    </tr>\n",
       "    <tr>\n",
       "      <th>3</th>\n",
       "      <td>-0.003798</td>\n",
       "      <td>0.023165</td>\n",
       "      <td>-497257.481184</td>\n",
       "      <td>-0.693147</td>\n",
       "    </tr>\n",
       "    <tr>\n",
       "      <th>4</th>\n",
       "      <td>0.002109</td>\n",
       "      <td>0.022786</td>\n",
       "      <td>-497257.221066</td>\n",
       "      <td>-0.693147</td>\n",
       "    </tr>\n",
       "    <tr>\n",
       "      <th>...</th>\n",
       "      <td>...</td>\n",
       "      <td>...</td>\n",
       "      <td>...</td>\n",
       "      <td>...</td>\n",
       "    </tr>\n",
       "    <tr>\n",
       "      <th>16759</th>\n",
       "      <td>-0.000131</td>\n",
       "      <td>0.000021</td>\n",
       "      <td>-497245.375166</td>\n",
       "      <td>-0.693147</td>\n",
       "    </tr>\n",
       "    <tr>\n",
       "      <th>16760</th>\n",
       "      <td>-0.000413</td>\n",
       "      <td>0.000010</td>\n",
       "      <td>-497245.297980</td>\n",
       "      <td>-0.693147</td>\n",
       "    </tr>\n",
       "    <tr>\n",
       "      <th>16761</th>\n",
       "      <td>-0.000107</td>\n",
       "      <td>0.000017</td>\n",
       "      <td>-497245.291679</td>\n",
       "      <td>-0.693147</td>\n",
       "    </tr>\n",
       "    <tr>\n",
       "      <th>16762</th>\n",
       "      <td>-0.000111</td>\n",
       "      <td>0.000016</td>\n",
       "      <td>-497245.122562</td>\n",
       "      <td>-0.693147</td>\n",
       "    </tr>\n",
       "    <tr>\n",
       "      <th>16763</th>\n",
       "      <td>-0.000111</td>\n",
       "      <td>0.000016</td>\n",
       "      <td>-497245.122562</td>\n",
       "      <td>-0.693147</td>\n",
       "    </tr>\n",
       "  </tbody>\n",
       "</table>\n",
       "<p>16764 rows × 4 columns</p>\n",
       "</div>"
      ],
      "text/plain": [
       "             mu     sigma  log_likelihood  log_prior\n",
       "0      0.020852  0.021148  -497260.258105  -0.693147\n",
       "1      0.007813  0.026311  -497258.685022  -0.693147\n",
       "2      0.001407  0.024959  -497257.944585  -0.693147\n",
       "3     -0.003798  0.023165  -497257.481184  -0.693147\n",
       "4      0.002109  0.022786  -497257.221066  -0.693147\n",
       "...         ...       ...             ...        ...\n",
       "16759 -0.000131  0.000021  -497245.375166  -0.693147\n",
       "16760 -0.000413  0.000010  -497245.297980  -0.693147\n",
       "16761 -0.000107  0.000017  -497245.291679  -0.693147\n",
       "16762 -0.000111  0.000016  -497245.122562  -0.693147\n",
       "16763 -0.000111  0.000016  -497245.122562  -0.693147\n",
       "\n",
       "[16764 rows x 4 columns]"
      ]
     },
     "execution_count": 3,
     "metadata": {},
     "output_type": "execute_result"
    }
   ],
   "source": [
    "result.posterior"
   ]
  },
  {
   "cell_type": "code",
   "execution_count": 4,
   "metadata": {},
   "outputs": [],
   "source": [
    "import numpy as np"
   ]
  },
  {
   "cell_type": "code",
   "execution_count": 5,
   "metadata": {},
   "outputs": [
    {
     "data": {
      "text/plain": [
       "0.5000000902799808"
      ]
     },
     "execution_count": 5,
     "metadata": {},
     "output_type": "execute_result"
    }
   ],
   "source": [
    "np.exp(-0.693147)"
   ]
  },
  {
   "cell_type": "code",
   "execution_count": 6,
   "metadata": {},
   "outputs": [
    {
     "data": {
      "text/plain": [
       "{'mu': Uniform(minimum=-1.0, maximum=1.0, name='mu', latex_label='$\\\\mu$', unit=None, boundary=None),\n",
       " 'sigma': Uniform(minimum=0.0, maximum=1.0, name='sigma', latex_label='$\\\\sigma$', unit=None, boundary=None)}"
      ]
     },
     "execution_count": 6,
     "metadata": {},
     "output_type": "execute_result"
    }
   ],
   "source": [
    "result.priors"
   ]
  },
  {
   "cell_type": "code",
   "execution_count": 7,
   "metadata": {},
   "outputs": [
    {
     "data": {
      "text/plain": [
       "0.5"
      ]
     },
     "execution_count": 7,
     "metadata": {},
     "output_type": "execute_result"
    }
   ],
   "source": [
    "1/ 2 /1"
   ]
  },
  {
   "cell_type": "code",
   "execution_count": null,
   "metadata": {},
   "outputs": [],
   "source": []
  }
 ],
 "metadata": {
  "kernelspec": {
   "display_name": "CPT",
   "language": "python",
   "name": "python3"
  },
  "language_info": {
   "codemirror_mode": {
    "name": "ipython",
    "version": 3
   },
   "file_extension": ".py",
   "mimetype": "text/x-python",
   "name": "python",
   "nbconvert_exporter": "python",
   "pygments_lexer": "ipython3",
   "version": "3.8.12"
  }
 },
 "nbformat": 4,
 "nbformat_minor": 2
}
